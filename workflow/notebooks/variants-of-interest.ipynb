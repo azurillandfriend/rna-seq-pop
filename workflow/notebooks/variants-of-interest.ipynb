{
 "cells": [
  {
   "cell_type": "code",
   "execution_count": null,
   "id": "ea04b0af",
   "metadata": {
    "tags": [
     "remove-inputs"
    ]
   },
   "outputs": [],
   "source": [
    "#!/usr/bin/env python3\n",
    "\n",
    "\"\"\"\n",
    "A script to plot the frequencies of variants of interest as a heatmap\n",
    "\"\"\"\n",
    "\n",
    "import sys\n",
    "sys.path.insert(1, 'workflow/scripts/')\n",
    "sys.path.insert(2, '../workflow/scripts/')\n",
    "\n",
    "import pandas as pd\n",
    "import matplotlib\n",
    "import rnaseqpoptools as rnaseqpop"
   ]
  },
  {
   "cell_type": "code",
   "execution_count": null,
   "id": "fe571f38",
   "metadata": {
    "tags": [
     "remove-inputs",
     "parameters"
    ]
   },
   "outputs": [],
   "source": [
    "### Variants of Interest patjh ###\n",
    "voi_path = \"\""
   ]
  },
  {
   "cell_type": "code",
   "execution_count": null,
   "id": "2dc20146",
   "metadata": {
    "tags": [
     "remove-inputs"
    ]
   },
   "outputs": [],
   "source": [
    "## Read VOI data\n",
    "muts = pd.read_csv(voi_path, sep=\"\\t\")\n",
    "\n",
    "## separate contig and pos data and sort \n",
    "muts['chrom'] = muts['Location'].str.split(\":\").str.get(0)\n",
    "muts['pos'] = muts['Location'].str.split(\":\").str.get(1).str.split(\"-\").str.get(0)\n",
    "muts = muts.sort_values(['chrom', 'pos'])\n",
    "\n",
    "\n",
    "## Run for all samples\n",
    "df, annot = rnaseqpop.getAlleleFreqTable(muts, \"results/variantAnalysis/variantsOfInterest/csvs/{mut}_alleleBalance.csv\", var=\"sample\")\n",
    "rnaseqpop.plotRectangular(df, annot=annot, path=\"results/variantAnalysis/variantsOfInterest/VOI.heatmapPerSample.svg\")\n",
    "rnaseqpop.plotRectangular(df, annot=annot, path=\"results/variantAnalysis/variantsOfInterest/VOI.heatmapPerSample.pdf\")\n",
    "\n",
    "\n",
    "## Run for avarage frequencies across treatments\n",
    "df2, annot2 = rnaseqpop.getAlleleFreqTable(muts, \"results/variantAnalysis/variantsOfInterest/csvs/mean_{mut}_alleleBalance.csv\", var=\"treatment\", mean_=True)\n",
    "rnaseqpop.plotRectangular(df2, annot=annot2, path=\"results/variantAnalysis/variantsOfInterest/VOI.heatmapPerTreatment.svg\", xlab=\"strain\")\n",
    "rnaseqpop.plotRectangular(df2, annot=annot2, path=\"results/variantAnalysis/variantsOfInterest/VOI.heatmapPerTreatment.pdf\", xlab=\"strain\")\n",
    "\n",
    "# Join both plots\n",
    "rnaseqpop.plotTwoRectangular(df, annot, df2, annot2, path=\"results/variantAnalysis/variantsOfInterest/VOI.heatmapBothPlots.svg\", ratio='auto')\n",
    "rnaseqpop.plotTwoRectangular(df, annot, df2, annot2, path=\"results/variantAnalysis/variantsOfInterest/VOI.heatmapBothPlots.pdf\", ratio='auto')"
   ]
  }
 ],
 "metadata": {
  "celltoolbar": "Tags",
  "kernelspec": {
   "display_name": "Python 3 (ipykernel)",
   "language": "python",
   "name": "python3"
  },
  "language_info": {
   "codemirror_mode": {
    "name": "ipython",
    "version": 3
   },
   "file_extension": ".py",
   "mimetype": "text/x-python",
   "name": "python",
   "nbconvert_exporter": "python",
   "pygments_lexer": "ipython3",
   "version": "3.10.10"
  }
 },
 "nbformat": 4,
 "nbformat_minor": 5
}
