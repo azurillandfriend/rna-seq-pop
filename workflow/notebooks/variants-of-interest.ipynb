{
 "cells": [
  {
   "cell_type": "code",
   "execution_count": null,
   "id": "ea04b0af",
   "metadata": {
    "tags": [
     "remove-input"
    ]
   },
   "outputs": [],
   "source": [
    "#!/usr/bin/env python3\n",
    "\n",
    "\"\"\"\n",
    "A script to plot the frequencies of variants of interest as a heatmap\n",
    "\"\"\"\n",
    "\n",
    "import sys\n",
    "sys.path.insert(1, 'workflow/scripts/')\n",
    "sys.path.insert(2, '../workflow/scripts/') # for ci \n",
    "\n",
    "import pandas as pd\n",
    "import matplotlib\n",
    "import rnaseqpoptools as rnaseqpop\n",
    "import plotly.express as px"
   ]
  },
  {
   "cell_type": "code",
   "execution_count": null,
   "id": "fe571f38",
   "metadata": {
    "tags": [
     "parameters",
     "remove-input"
    ]
   },
   "outputs": [],
   "source": [
    "### Variants of Interest path ###\n",
    "voi_path = \"../../resources/exampleMutations.tsv\"\n",
    "dataset = \"\""
   ]
  },
  {
   "cell_type": "code",
   "execution_count": null,
   "id": "2dc20146",
   "metadata": {
    "tags": [
     "remove-input"
    ]
   },
   "outputs": [],
   "source": [
    "## Read VOI data\n",
    "muts = pd.read_csv(voi_path, sep=\"\\t\")\n",
    "\n",
    "## separate contig and pos data and sort \n",
    "muts['chrom'] = muts['Location'].str.split(\":\").str.get(0)\n",
    "muts['pos'] = muts['Location'].str.split(\":\").str.get(1).str.split(\"-\").str.get(0)\n",
    "muts = muts.sort_values(['chrom', 'pos'])\n",
    "\n",
    "\n",
    "## Run for all samples\n",
    "df, annot = rnaseqpop.getAlleleFreqTable(muts, \"results/variantAnalysis/variantsOfInterest/csvs/{mut}_alleleBalance.csv\", var=\"sample\")\n",
    "rnaseqpop.plotRectangular(df, annot=annot, path=\"results/variantAnalysis/variantsOfInterest/VOI.heatmapPerSample.svg\")\n",
    "rnaseqpop.plotRectangular(df, annot=annot, path=\"results/variantAnalysis/variantsOfInterest/VOI.heatmapPerSample.pdf\")\n",
    "\n",
    "\n",
    "## Run for avarage frequencies across treatments\n",
    "df2, annot2 = rnaseqpop.getAlleleFreqTable(muts, \"results/variantAnalysis/variantsOfInterest/csvs/mean_{mut}_alleleBalance.csv\", var=\"treatment\", mean_=True)\n",
    "rnaseqpop.plotRectangular(df2, annot=annot2, path=\"results/variantAnalysis/variantsOfInterest/VOI.heatmapPerTreatment.svg\", xlab=\"strain\")\n",
    "rnaseqpop.plotRectangular(df2, annot=annot2, path=\"results/variantAnalysis/variantsOfInterest/VOI.heatmapPerTreatment.pdf\", xlab=\"strain\")\n",
    "\n",
    "# Join both plots\n",
    "rnaseqpop.plotTwoRectangular(df, annot, df2, annot2, path=\"results/variantAnalysis/variantsOfInterest/VOI.heatmapBothPlots.svg\", ratio='auto')\n",
    "rnaseqpop.plotTwoRectangular(df, annot, df2, annot2, path=\"results/variantAnalysis/variantsOfInterest/VOI.heatmapBothPlots.pdf\", ratio='auto')"
   ]
  },
  {
   "cell_type": "markdown",
   "id": "fc92b0f2",
   "metadata": {},
   "source": [
    "### Variants of Interest \n",
    "\n",
    "**Output Directory:** <span style=\"color:gray;font-weight:bold\">*results/variantsOfInterest/*</span>  \n",
    "\n",
    "**Rules**\n",
    "\n",
    "<span style=\"color:gray;font-weight:bold\">\n",
    "\n",
    "* *VariantsOfInterest.smk*\n",
    "    * mpileupVariantsOfInterest\n",
    "    * AlleleBalanceVariantsOfInterest\n",
    "\n",
    "</span>\n",
    "    \n",
    "   \n",
    "**Introduction** \n",
    "\n",
    "In some biological systems, it may be useful to perform surveillance on mutations which we are interested in. For example, this could be to detect drug-resistance markers in *Plasmodium* parasites, or insecticide-resistance mutations in the malaria mosquito. \n",
    "\n",
    "If provided with a table of user-defined variants of interest, *RNA-Seq-Pop* can calculate allele frequencies at these sites from the aligned read data, and plot the results.\n",
    "\n",
    "\n",
    "**Results**"
   ]
  },
  {
   "cell_type": "code",
   "execution_count": null,
   "id": "c05b4f70",
   "metadata": {
    "tags": [
     "remove-input"
    ]
   },
   "outputs": [],
   "source": [
    "fig = px.imshow(\n",
    "        img=df2,\n",
    "        zmin=0,\n",
    "        zmax=1,\n",
    "        width=400 + (df2.shape[1] * 50),\n",
    "        height=400 + (df2.shape[0] * 40),\n",
    "        text_auto=True,\n",
    "        aspect=1,\n",
    "        color_continuous_scale=\"Reds\",\n",
    "        title=f\"{dataset} allele frequencies\",\n",
    "    )\n",
    "fig.update(layout_coloraxis_showscale=False)\n",
    "\n",
    "fig"
   ]
  }
 ],
 "metadata": {
  "celltoolbar": "Tags",
  "kernelspec": {
   "display_name": "Python 3 (ipykernel)",
   "language": "python",
   "name": "python3"
  },
  "language_info": {
   "codemirror_mode": {
    "name": "ipython",
    "version": 3
   },
   "file_extension": ".py",
   "mimetype": "text/x-python",
   "name": "python",
   "nbconvert_exporter": "python",
   "pygments_lexer": "ipython3",
   "version": "3.10.10"
  }
 },
 "nbformat": 4,
 "nbformat_minor": 5
}
