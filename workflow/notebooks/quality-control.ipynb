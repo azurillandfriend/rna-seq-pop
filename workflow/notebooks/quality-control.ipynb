{
 "cells": [
  {
   "cell_type": "code",
   "execution_count": null,
   "metadata": {
    "tags": [
     "parameters",
     "remove-input"
    ]
   },
   "outputs": [],
   "source": [
    "metadata_path = '../../config/metadata.tsv'\n",
    "index_read_qc = True\n",
    "wkdir = \"\""
   ]
  },
  {
   "attachments": {},
   "cell_type": "markdown",
   "metadata": {},
   "source": [
    "### Read quality\n",
    "\n",
    "In this notebook, we link to the quality reports from MultiQC, index read QC and per sample from FastQC and FastP.   "
   ]
  },
  {
   "cell_type": "code",
   "execution_count": null,
   "metadata": {
    "tags": [
     "remove-input"
    ]
   },
   "outputs": [],
   "source": [
    "# load panel metadata\n",
    "import pandas as pd\n",
    "metadata = pd.read_csv(metadata_path, sep=\"\\t\")"
   ]
  },
  {
   "cell_type": "code",
   "execution_count": null,
   "metadata": {
    "tags": [
     "remove-input"
    ]
   },
   "outputs": [],
   "source": [
    "from IPython.display import display, Markdown\n",
    "display(Markdown('## MultiQC'))\n",
    "display(Markdown('MultiQC is a tool which integrates information from various tools in the workflow (Currently, it is not quite configured correctly)'))\n",
    "display(Markdown(f'<a href={wkdir}/results/multiqc/multiqc_report.html>MultiQC report</a>'))"
   ]
  },
  {
   "cell_type": "code",
   "execution_count": null,
   "metadata": {
    "tags": [
     "remove-input"
    ]
   },
   "outputs": [],
   "source": [
    "if index_read_qc:\n",
    "    display(Markdown('## Index read QC'))\n",
    "    display(Markdown('Index reads with average quality score below 30 for a given run may be unreliable and cause demultiplexing errors.'))\n",
    "    display(Markdown(f'<a href={wkdir}/results/index-read-qc/I1.html>Index 1 FASTQC report</a>'))\n",
    "    display(Markdown(f'<a href={wkdir}/results/index-read-qc/I2.html>Index 2 FASTQC report</a>'))"
   ]
  },
  {
   "cell_type": "code",
   "execution_count": null,
   "metadata": {
    "scrolled": false,
    "tags": [
     "remove-input"
    ]
   },
   "outputs": [],
   "source": [
    "display(Markdown('## Sample read QC'))\n",
    "for sample in metadata.sampleID:\n",
    "    display(Markdown(f'<a href={wkdir}/results/fastp_reports/{sample}.html>{sample} fastp report</a>'))"
   ]
  }
 ],
 "metadata": {
  "celltoolbar": "Tags",
  "kernelspec": {
   "display_name": "Python 3 (ipykernel)",
   "language": "python",
   "name": "python3"
  },
  "language_info": {
   "codemirror_mode": {
    "name": "ipython",
    "version": 3
   },
   "file_extension": ".py",
   "mimetype": "text/x-python",
   "name": "python",
   "nbconvert_exporter": "python",
   "pygments_lexer": "ipython3",
   "version": "3.10.10"
  },
  "vscode": {
   "interpreter": {
    "hash": "ce681de973941d5edd9bd94c9a2926b7fe65e17e578a68317f38265a230b8ca7"
   }
  }
 },
 "nbformat": 4,
 "nbformat_minor": 2
}
