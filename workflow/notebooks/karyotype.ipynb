{
 "cells": [
  {
   "cell_type": "code",
   "execution_count": null,
   "id": "ea04b0af",
   "metadata": {
    "tags": [
     "remove-inputs"
    ]
   },
   "outputs": [],
   "source": [
    "#!/usr/bin/env python3\n",
    "\n",
    "\"\"\"\n",
    "Plots Karyotype data\n",
    "\"\"\"\n",
    "import sys\n",
    "sys.path.insert(1, 'workflow/scripts/')\n",
    "sys.path.insert(2, '../workflow/scripts/')\n",
    "\n",
    "import rnaseqpoptools as rnaseqpop\n",
    "import pandas as pd \n",
    "import matplotlib.pyplot as plt"
   ]
  },
  {
   "cell_type": "code",
   "execution_count": null,
   "id": "fe571f38",
   "metadata": {
    "tags": [
     "remove-inputs",
     "parameters"
    ]
   },
   "outputs": [],
   "source": [
    "# Read in parameters from snakemake\n",
    "ploidy = \"\"\n",
    "invs = \"\"\n",
    "dataset = \"\""
   ]
  },
  {
   "cell_type": "code",
   "execution_count": null,
   "id": "2dc20146",
   "metadata": {
    "tags": [
     "remove-inputs"
    ]
   },
   "outputs": [],
   "source": [
    "metadata = pd.read_csv(snakemake.params['metadata'], sep=\"\\t\")\n",
    "metadata = metadata.sort_values(by='species')\n",
    "\n",
    "karyo = {}\n",
    "for inv in invs:\n",
    "    df = pd.read_csv(f\"results/karyotype/{inv}.{dataset}.karyo.txt\", sep=\"\\s+\", header=None)\n",
    "    df = df.rename(columns={0:'sampleID', 1:'KaryoScore', 2:'n_SNPtags'})\n",
    "    df[inv] = df['KaryoScore']/ploidy\n",
    "    df.rename(columns={inv:f'{inv} frequency'}).to_csv(f\"results/karyotype/{inv}.{dataset}.karyo.txt\", sep=\"\\t\")\n",
    "    \n",
    "    karyo[inv] = df[['sampleID', inv]]\n",
    "\n",
    "# concat all the dfs in the dict and remove duplicate cols\n",
    "karyo = pd.concat(karyo.values(), axis=1).T.drop_duplicates().T.set_index(\"sampleID\")\n",
    "\n",
    "## transpose and round to 2 decimals\n",
    "karyo = karyo.T.astype(\"float64\").round(2)\n",
    "rnaseqpop.plotRectangular(karyo, path=\"results/karyotype/karyoFreqs.svg\" , cmap='mako_r', ylab='Inversion', figsize=[10,5])\n",
    "\n",
    "# Produce for average karyos per treatment\n",
    "df = karyo.T.reset_index()\n",
    "df = df.merge(metadata[['sampleID', 'treatment']])\n",
    "df = df.groupby(\"treatment\").agg('mean').T.astype(\"float64\").round(2)\n",
    "rnaseqpop.plotRectangular(df, path=\"results/karyotype/karyoOverallFreqs.svg\", ylab='Inversion', cbar=False, figsize=[8,4])"
   ]
  },
  {
   "cell_type": "markdown",
   "id": "acf6a3e0",
   "metadata": {},
   "source": [
    "### Karyotyping\n",
    "\n",
    "**Output Directory:** <span style=\"color:gray;font-weight:bold\">*results/karyotype/*</span>\n",
    "\n",
    "**Rules**  \n",
    "\n",
    "<span style=\"color:gray;font-weight:bold\">\n",
    "    \n",
    "* *variantAnalysis.smk*\n",
    "    * Karyotype  \n",
    "    \n",
    "</span> \n",
    "\n",
    "\n",
    "**Introduction** \n",
    "\n",
    "Chromosomal inversions are a type of structural variation in which a segment of a chromosome is inverted relative to the normal ancestral arrangement. In *Anopheles gambiae*, chromosomal inversions have been extensively studied due to their role in the evolution and adaptation of the species. These inversions limit recombination in heterokaryotypic individuals, and so can act as barriers to gene flow between opposing karyotypes. The 2La inversion, which is approximately 21Mb long, has been associated with aridity tolerance, *Plasmodium* infection and insecticide resistance. Because the 2La inversion predates the speciation of the gambiae complex, it is the biggest driver of population structure within its breakpoints.\n",
    "\n",
    "In *RNA-Seq-Pop*, we can estimate the frequency of chromosomal inversions in our samples, using [compkaryo](https://github.com/rrlove/compkaryo) and karyotype-tagging SNPs. These are SNPs which reside within the inversion breakpoints, and show fixed differences between karyotypes, indicating which karyotype a sample contains.\n",
    "\n",
    "**Results**"
   ]
  },
  {
   "cell_type": "code",
   "execution_count": null,
   "id": "ee8e0f9e",
   "metadata": {},
   "outputs": [],
   "source": [
    "df"
   ]
  }
 ],
 "metadata": {
  "celltoolbar": "Tags",
  "kernelspec": {
   "display_name": "Python 3 (ipykernel)",
   "language": "python",
   "name": "python3"
  },
  "language_info": {
   "codemirror_mode": {
    "name": "ipython",
    "version": 3
   },
   "file_extension": ".py",
   "mimetype": "text/x-python",
   "name": "python",
   "nbconvert_exporter": "python",
   "pygments_lexer": "ipython3",
   "version": "3.10.10"
  }
 },
 "nbformat": 4,
 "nbformat_minor": 5
}
