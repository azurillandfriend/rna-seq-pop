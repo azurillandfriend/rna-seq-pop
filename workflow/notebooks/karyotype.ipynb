{
 "cells": [
  {
   "cell_type": "code",
   "execution_count": null,
   "id": "ea04b0af",
   "metadata": {
    "tags": [
     "remove-inputs"
    ]
   },
   "outputs": [],
   "source": [
    "#!/usr/bin/env python3\n",
    "\n",
    "\"\"\"\n",
    "Plots Karyotype data\n",
    "\"\"\"\n",
    "import sys\n",
    "sys.path.insert(1, 'workflow/scripts/')\n",
    "import rnaseqpoptools as rnaseqpop\n",
    "import pandas as pd \n",
    "import matplotlib.pyplot as plt"
   ]
  },
  {
   "cell_type": "code",
   "execution_count": null,
   "id": "fe571f38",
   "metadata": {
    "tags": [
     "remove-inputs",
     "parameters"
    ]
   },
   "outputs": [],
   "source": [
    "# Read in parameters from snakemake\n",
    "ploidy = \"\"\n",
    "invs = \"\"\n",
    "dataset = \"\""
   ]
  },
  {
   "cell_type": "code",
   "execution_count": null,
   "id": "2dc20146",
   "metadata": {
    "tags": [
     "remove-inputs"
    ]
   },
   "outputs": [],
   "source": [
    "metadata = pd.read_csv(snakemake.params['metadata'], sep=\"\\t\")\n",
    "metadata = metadata.sort_values(by='species')\n",
    "\n",
    "karyo = {}\n",
    "for inv in invs:\n",
    "    df = pd.read_csv(f\"results/karyotype/{inv}.{dataset}.karyo.txt\", sep=\"\\s+\", header=None)\n",
    "    df = df.rename(columns={0:'sampleID', 1:'KaryoScore', 2:'n_SNPtags'})\n",
    "    df[inv] = df['KaryoScore']/ploidy\n",
    "    df.rename(columns={inv:f'{inv} frequency'}).to_csv(f\"results/karyotype/{inv}.{dataset}.karyo.txt\", sep=\"\\t\")\n",
    "    \n",
    "    karyo[inv] = df[['sampleID', inv]]\n",
    "\n",
    "# concat all the dfs in the dict and remove duplicate cols\n",
    "karyo = pd.concat(karyo.values(), axis=1).T.drop_duplicates().T.set_index(\"sampleID\")\n",
    "\n",
    "## transpose and round to 2 decimals\n",
    "karyo = karyo.T.astype(\"float64\").round(2)\n",
    "rnaseqpop.plotRectangular(karyo, path=\"results/karyotype/karyoFreqs.svg\" , cmap='mako_r', ylab='Inversion', figsize=[10,5])\n",
    "\n",
    "# Produce for average karyos per treatment\n",
    "df = karyo.T.reset_index()\n",
    "df = df.merge(metadata[['sampleID', 'treatment']])\n",
    "df = df.groupby(\"treatment\").agg('mean').T.astype(\"float64\").round(2)\n",
    "rnaseqpop.plotRectangular(df, path=\"results/karyotype/karyoOverallFreqs.svg\", ylab='Inversion', cbar=False, figsize=[8,4])"
   ]
  }
 ],
 "metadata": {
  "celltoolbar": "Tags",
  "kernelspec": {
   "display_name": "Python 3 (ipykernel)",
   "language": "python",
   "name": "python3"
  },
  "language_info": {
   "codemirror_mode": {
    "name": "ipython",
    "version": 3
   },
   "file_extension": ".py",
   "mimetype": "text/x-python",
   "name": "python",
   "nbconvert_exporter": "python",
   "pygments_lexer": "ipython3",
   "version": "3.10.10"
  }
 },
 "nbformat": 4,
 "nbformat_minor": 5
}
