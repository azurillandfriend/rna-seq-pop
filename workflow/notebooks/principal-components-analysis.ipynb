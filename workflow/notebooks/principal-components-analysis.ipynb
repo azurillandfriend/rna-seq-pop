{
 "cells": [
  {
   "cell_type": "code",
   "execution_count": null,
   "id": "ea04b0af",
   "metadata": {
    "tags": [
     "remove-inputs"
    ]
   },
   "outputs": [],
   "source": [
    "#!/usr/bin/env python3\n",
    "\n",
    "\"\"\"\n",
    "A script to perform PCA on the genotype data\n",
    "\"\"\"\n",
    "import sys\n",
    "sys.path.insert(1, 'workflow/scripts/')\n",
    "sys.path.insert(2, '../workflow/scripts/')\n",
    "import rnaseqpoptools as rnaseqpop\n",
    "import pandas as pd \n",
    "import numpy as np\n",
    "import allel\n",
    "from adjustText import adjust_text"
   ]
  },
  {
   "cell_type": "code",
   "execution_count": null,
   "id": "fe571f38",
   "metadata": {
    "tags": [
     "remove-inputs",
     "parameters"
    ]
   },
   "outputs": [],
   "source": [
    "# Read in parameters from snakemake\n",
    "dataset = \"\"\n",
    "metadata_path = \"\"\n",
    "contigs = \"\"\n",
    "ploidy = \"\"\n",
    "qualflt = \"\"\n",
    "missingprop = \"\""
   ]
  },
  {
   "cell_type": "code",
   "execution_count": null,
   "id": "2dc20146",
   "metadata": {
    "tags": [
     "remove-inputs"
    ]
   },
   "outputs": [],
   "source": [
    "metadata = pd.read_csv(metadata_path, sep=\"\\t\")\n",
    "metadata = metadata.sort_values(by='species')\n",
    "numbers = rnaseqpop.get_numbers_dict(ploidy)\n",
    "\n",
    "for i, contig in enumerate(contigs):\n",
    "    \n",
    "    # Read in and Filter VCF\n",
    "    path = f\"results/variantAnalysis/vcfs/{dataset}.{contig}.vcf.gz\"\n",
    "    vcf, geno, acsubpops, pos, depth, snpeff, subpops, populations = rnaseqpop.readAndFilterVcf(path=path,\n",
    "                                                           contig=contig,\n",
    "                                                           samples=metadata,\n",
    "                                                           numbers=numbers,\n",
    "                                                           ploidy=ploidy,\n",
    "                                                           qualflt=qualflt,\n",
    "                                                           missingfltprop=missingprop)\n",
    "    \n",
    "\n",
    "    #### Principal Components Analysis (PCA) ####\n",
    "    # Set up dict to store indices for colours\n",
    "    d={}\n",
    "    for name, inds in subpops.items():\n",
    "        for n in range(len(inds)):\n",
    "            p = inds[n]\n",
    "            d[p] = name\n",
    "\n",
    "    # Store dict as a dataframe and get colours \n",
    "    treatment_indices = pd.DataFrame.from_dict(d, orient='index').reset_index()\n",
    "    treatment_indices = treatment_indices.rename(columns = {'index':'sample_index', 0:\"name\"})\n",
    "    pop_colours = rnaseqpop.get_colour_dict(treatment_indices['name'], \"viridis\")\n",
    "    \n",
    "    # Run PCA function defined in tools.py\n",
    "    print(f\"Performing PCA on {dataset} chromosome {contig}\")\n",
    "    rnaseqpop.pca(geno, contig, ploidy, dataset, populations, metadata, pop_colours, prune=True, scaler=None)"
   ]
  }
 ],
 "metadata": {
  "celltoolbar": "Tags",
  "kernelspec": {
   "display_name": "Python 3 (ipykernel)",
   "language": "python",
   "name": "python3"
  },
  "language_info": {
   "codemirror_mode": {
    "name": "ipython",
    "version": 3
   },
   "file_extension": ".py",
   "mimetype": "text/x-python",
   "name": "python",
   "nbconvert_exporter": "python",
   "pygments_lexer": "ipython3",
   "version": "3.10.10"
  }
 },
 "nbformat": 4,
 "nbformat_minor": 5
}
