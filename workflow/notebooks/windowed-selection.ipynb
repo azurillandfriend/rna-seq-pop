{
 "cells": [
  {
   "cell_type": "code",
   "execution_count": null,
   "id": "ea04b0af",
   "metadata": {
    "tags": [
     "remove-inputs"
    ]
   },
   "outputs": [],
   "source": [
    "#!/usr/bin/env python3\n",
    "\n",
    "\"\"\"\n",
    "A script to calculate windowed population genetic statistics (Fst, PBS).\n",
    "\"\"\"\n",
    "\n",
    "import sys\n",
    "sys.stderr = open(snakemake.log[0], \"w\")\n",
    "import pandas as pd\n",
    "import numpy as np\n",
    "import allel\n",
    "import rnaseqpoptools as rnaseqpop\n",
    "from pathlib import Path"
   ]
  },
  {
   "cell_type": "code",
   "execution_count": null,
   "id": "fe571f38",
   "metadata": {
    "tags": [
     "remove-inputs",
     "parameters"
    ]
   },
   "outputs": [],
   "source": [
    "dataset = snakemake.params['dataset']\n",
    "metadata = pd.read_csv(snakemake.input['metadata'], sep=\"\\t\")\n",
    "metadata = metadata.sort_values(by='species')\n",
    "contigs = snakemake.params['contigs']\n",
    "ploidy = snakemake.params['ploidy']\n",
    "numbers = rnaseqpop.get_numbers_dict(ploidy)\n",
    "pbs = snakemake.params['pbs']\n",
    "pbscomps = snakemake.params['pbscomps']\n",
    "qualflt = snakemake.params['qualflt']\n",
    "missingprop = snakemake.params['missingprop']\n",
    "comparison = snakemake.params['DEcontrasts']"
   ]
  },
  {
   "cell_type": "code",
   "execution_count": null,
   "id": "2dc20146",
   "metadata": {
    "tags": [
     "remove-inputs"
    ]
   },
   "outputs": [],
   "source": [
    "#Fst/PBS window size\n",
    "windownames =  ['1000snp_window', '2000snp_window', '5000snp_window']\n",
    "windowsizes =  [1000, 2000, 5000]\n",
    "windowsteps = [500, 1000, 1000]\n",
    "\n",
    "# Read in list of contrasts\n",
    "comparisons = pd.DataFrame(comparisons, columns=['contrast'])\n",
    "comparisons = comparisons.contrast.str.split(\"_\", expand=True)\n",
    "comparisons.columns = ['sus', 'res']\n",
    "comparisons = [list(row) for i,row in comparisons.iterrows()]\n",
    "\n",
    "for i, contig in enumerate(contigs):\n",
    "\n",
    "    path = f\"results/variantAnalysis/vcfs/{dataset}.{contig}.vcf.gz\"\n",
    "    vcf, geno, acsubpops, pos, depth, snpeff, subpops, populations = rnaseqpop.readAndFilterVcf(path=path,\n",
    "                                                           contig=contig,\n",
    "                                                           samples=metadata,\n",
    "                                                           numbers=numbers,\n",
    "                                                           ploidy=ploidy,\n",
    "                                                           qualflt=qualflt,\n",
    "                                                           missingfltprop=missingprop)\n",
    "\n",
    "    #### Fst in windows #### \n",
    "    for sus, res in comparisons:\n",
    "        name = sus + \"_\" + res\n",
    "        cohortText = f\"{sus} v {res}\"\n",
    "        print(f\"Calculating Fst values in sliding windows for {name}\\n\")\n",
    "\n",
    "        for wname, size, step in zip(windownames, windowsizes, windowsteps):\n",
    "            \n",
    "            if geno.shape[0] < size:\n",
    "                print(f\"Skipping {wname} for {name} because there are not enough SNPs in {contig}.\")\n",
    "                print(\"Touching file to prevent snakemake from erroring out.\")\n",
    "                Path(f\"results/variantAnalysis/selection/fst/{wname}/{name}.Fst.{contig}.svg\").touch()\n",
    "            else:\n",
    "                FstArray = allel.moving_hudson_fst(acsubpops[sus], \n",
    "                                acsubpops[res], \n",
    "                                size=size, step=step)\n",
    "                midpoint = allel.moving_statistic(pos, np.median, size=size, step=step)\n",
    "                \n",
    "                cohortNoSpaceText = wname + \"/\" + name \n",
    "                rnaseqpop.plotWindowed(statName=\"Fst\",\n",
    "                            cohortText=cohortText,\n",
    "                            cohortNoSpaceText=cohortNoSpaceText,\n",
    "                            values=FstArray, \n",
    "                            midpoints=midpoint,\n",
    "                            colour='dodgerblue',\n",
    "                            prefix=\"results/variantAnalysis/selection/fst\", \n",
    "                            contig=contig, \n",
    "                            ylim=1, \n",
    "                            save=True)\n",
    "\n",
    "        \n",
    "    #### Population Branch Statistic (PBS) in windows ####\n",
    "    if pbs:\n",
    "        for pbscomp in pbscomps:\n",
    "            pop1, pop2, outpop = pbscomp.split(\"_\")\n",
    "            cohortText = f\"(({pop1}, {pop2}), {outpop})\"\n",
    "            print(f\"Calculating PBS values in sliding window for {pbscomp}\\n\")\n",
    "        \n",
    "            for wname, size, step in zip(windownames, windowsizes, windowsteps):\n",
    "\n",
    "                if geno.shape[0] < size:\n",
    "                    print(f\"Skipping {wname} for {pbscomp} because there are not enough SNPs in {contig}.\")\n",
    "                    print(\"Touching file to prevent snakemake from erroring out.\")\n",
    "                    Path(f\"results/variantAnalysis/selection/pbs/{wname}/{pbscomp}.PBS.{contig}.svg\").touch()\n",
    "                else:\n",
    "                    pbsArray = allel.pbs(acsubpops[pop1], \n",
    "                                    acsubpops[pop2], \n",
    "                                    acsubpops[outpop], \n",
    "                                    window_size=size, window_step=step, normed=True)\n",
    "                    midpoint = allel.moving_statistic(pos, np.median, size=size, step=step)\n",
    "\n",
    "                    cohortNoSpaceText =  wname + \"/\" + pbscomp\n",
    "                    rnaseqpop.plotWindowed(statName=\"PBS\", \n",
    "                                cohortText=cohortText,\n",
    "                                cohortNoSpaceText=cohortNoSpaceText,\n",
    "                                values=pbsArray, \n",
    "                                midpoints=midpoint, \n",
    "                                colour='dodgerblue',\n",
    "                                prefix=\"results/variantAnalysis/selection/pbs\",\n",
    "                                contig=contig, \n",
    "                                ylim=0.5, \n",
    "                                save=True)"
   ]
  }
 ],
 "metadata": {
  "celltoolbar": "Tags",
  "kernelspec": {
   "display_name": "Python 3 (ipykernel)",
   "language": "python",
   "name": "python3"
  },
  "language_info": {
   "codemirror_mode": {
    "name": "ipython",
    "version": 3
   },
   "file_extension": ".py",
   "mimetype": "text/x-python",
   "name": "python",
   "nbconvert_exporter": "python",
   "pygments_lexer": "ipython3",
   "version": "3.10.10"
  }
 },
 "nbformat": 4,
 "nbformat_minor": 5
}
